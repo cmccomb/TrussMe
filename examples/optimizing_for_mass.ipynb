{
  "cells": [
    {
      "cell_type": "markdown",
      "metadata": {
        "id": "view-in-github",
        "colab_type": "text"
      },
      "source": [
        "<a href=\"https://colab.research.google.com/github/cmccomb/TrussMe/blob/main/examples/optimizing_for_mass.ipynb\" target=\"_parent\"><img src=\"https://colab.research.google.com/assets/colab-badge.svg\" alt=\"Open In Colab\"/></a>"
      ]
    },
    {
      "cell_type": "markdown",
      "source": [
        "# Install TrussMe"
      ],
      "metadata": {
        "id": "d4JweabFv5bI"
      }
    },
    {
      "cell_type": "code",
      "execution_count": 1,
      "metadata": {
        "colab": {
          "base_uri": "https://localhost:8080/"
        },
        "id": "lIYdn1woOS1n",
        "outputId": "fe0ad85a-65e1-4d1f-8c53-c270b12615b6"
      },
      "outputs": [
        {
          "output_type": "stream",
          "name": "stdout",
          "text": [
            "  Preparing metadata (setup.py) ... \u001b[?25l\u001b[?25hdone\n",
            "  Building wheel for trussme (setup.py) ... \u001b[?25l\u001b[?25hdone\n"
          ]
        }
      ],
      "source": [
        "!pip install git+https://github.com/cmccomb/trussme.git -qqq"
      ]
    },
    {
      "cell_type": "markdown",
      "source": [
        "# Set up functions for optimization"
      ],
      "metadata": {
        "id": "XXEb3-8Zv8hC"
      }
    },
    {
      "cell_type": "code",
      "source": [
        "import trussme\n",
        "import scipy.optimize\n",
        "import numpy"
      ],
      "metadata": {
        "id": "wSB4taeLfbYt"
      },
      "execution_count": 2,
      "outputs": []
    },
    {
      "cell_type": "markdown",
      "source": [
        "First, let's construct a truss that we will use as a starting point."
      ],
      "metadata": {
        "id": "-42VVeJkv-k-"
      }
    },
    {
      "cell_type": "code",
      "source": [
        "truss_from_commands = trussme.Truss()\n",
        "truss_from_commands.add_pinned_joint([0.0, 0.0, 0.0])\n",
        "truss_from_commands.add_free_joint([1.0, 0.0, 0.0])\n",
        "truss_from_commands.add_free_joint([2.0, 0.0, 0.0])\n",
        "truss_from_commands.add_free_joint([3.0, 0.0, 0.0])\n",
        "truss_from_commands.add_free_joint([4.0, 0.0, 0.0])\n",
        "truss_from_commands.add_pinned_joint([5.0, 0.0, 0.0])\n",
        "\n",
        "truss_from_commands.add_free_joint([0.5, 1.0, 0.0])\n",
        "truss_from_commands.add_free_joint([1.5, 1.0, 0.0])\n",
        "truss_from_commands.add_free_joint([2.5, 1.0, 0.0])\n",
        "truss_from_commands.add_free_joint([3.5, 1.0, 0.0])\n",
        "truss_from_commands.add_free_joint([4.5, 1.0, 0.0])\n",
        "\n",
        "truss_from_commands.add_out_of_plane_support(\"z\")\n",
        "\n",
        "truss_from_commands.joints[8].loads[1] = -20000\n",
        "\n",
        "truss_from_commands.add_member(0, 1)\n",
        "truss_from_commands.add_member(1, 2)\n",
        "truss_from_commands.add_member(2, 3)\n",
        "truss_from_commands.add_member(3, 4)\n",
        "truss_from_commands.add_member(4, 5)\n",
        "\n",
        "truss_from_commands.add_member(6, 7)\n",
        "truss_from_commands.add_member(7, 8)\n",
        "truss_from_commands.add_member(8, 9)\n",
        "truss_from_commands.add_member(9, 10)\n",
        "\n",
        "truss_from_commands.add_member(0, 6)\n",
        "truss_from_commands.add_member(6, 1)\n",
        "truss_from_commands.add_member(1, 7)\n",
        "truss_from_commands.add_member(7, 2)\n",
        "truss_from_commands.add_member(2, 8)\n",
        "truss_from_commands.add_member(8, 3)\n",
        "truss_from_commands.add_member(3, 9)\n",
        "truss_from_commands.add_member(9, 4)\n",
        "truss_from_commands.add_member(4, 10)\n",
        "truss_from_commands.add_member(10, 5)"
      ],
      "metadata": {
        "id": "CItMgcAUfcWs"
      },
      "execution_count": 3,
      "outputs": []
    },
    {
      "cell_type": "code",
      "source": [
        "goals = trussme.Goals(\n",
        "    minimum_fos_buckling = 1.0,\n",
        "    minimum_fos_yielding = 1.0,\n",
        "    maximum_deflection = 0.01\n",
        ")"
      ],
      "metadata": {
        "id": "x_1HQpQIzA0z"
      },
      "execution_count": 4,
      "outputs": []
    },
    {
      "cell_type": "code",
      "source": [
        "truss_from_commands.analyze()\n",
        "print(\n",
        "    \"mass = {:.2f} kg; \".format(truss_from_commands.mass),\n",
        "    \"FOS = {:.2f}; \".format(truss_from_commands.fos),\n",
        "    \"deflection = {:.2f} cm; \".format(truss_from_commands.deflection*100)\n",
        ")\n",
        "trussme.visualize.plot_truss(truss_from_commands, starting_shape=\"force\");"
      ],
      "metadata": {
        "id": "cc6n_YmqyGmQ",
        "outputId": "0d40152f-6692-4d82-c7aa-dac18e33beab",
        "colab": {
          "base_uri": "https://localhost:8080/",
          "height": 423
        }
      },
      "execution_count": 5,
      "outputs": [
        {
          "output_type": "stream",
          "name": "stdout",
          "text": [
            "mass = 37.58 kg;  FOS = 2.95;  deflection = 0.28 cm; \n"
          ]
        },
        {
          "output_type": "display_data",
          "data": {
            "text/plain": [
              "<Figure size 640x480 with 1 Axes>"
            ],
            "image/png": "[encoded data removed]"
          },
          "metadata": {}
        }
      ]
    },
    {
      "cell_type": "markdown",
      "source": [
        "# Mass Minimization by Joint Coordinates\n",
        "Next, let's generate a mass-minimal truss by moving the joints around only"
      ],
      "metadata": {
        "id": "UK3HQm1bxteU"
      }
    },
    {
      "cell_type": "code",
      "source": [
        "x0, objective, constraints, generate_truss, bounds = trussme.make_optimization_functions(truss_from_commands, goals, joint_coordinates=True, shape_parameters=False)"
      ],
      "metadata": {
        "id": "yBoTNKg9gp9v"
      },
      "execution_count": 6,
      "outputs": []
    },
    {
      "cell_type": "code",
      "source": [
        "results = scipy.optimize.minimize(\n",
        "    objective,\n",
        "    x0,\n",
        "    constraints=scipy.optimize.NonlinearConstraint(constraints, -numpy.inf, 0.0, keep_feasible=True),\n",
        "    bounds=scipy.optimize.Bounds(bounds[0], bounds[1], keep_feasible=True),\n",
        "    method='trust-constr',\n",
        "    options={\n",
        "        \"verbose\": 2,\n",
        "        \"maxiter\": 100,\n",
        "    }\n",
        ")"
      ],
      "metadata": {
        "id": "agtKz9YHq-er",
        "colab": {
          "base_uri": "https://localhost:8080/"
        },
        "outputId": "87dc6836-f5c0-46e9-8697-575028266be8"
      },
      "execution_count": 7,
      "outputs": [
        {
          "output_type": "stream",
          "name": "stdout",
          "text": [
            "| niter |f evals|CG iter|  obj func   |tr radius |   opt    |  c viol  |\n",
            "|-------|-------|-------|-------------|----------|----------|----------|\n",
            "|   1   |  17   |   0   | +3.7583e+01 | 1.00e+00 | 3.32e+00 | 0.00e+00 |\n",
            "|   2   |  34   |   1   | +2.9515e+01 | 7.00e+00 | 2.97e+00 | 0.00e+00 |\n",
            "|   3   |  51   |   7   | +2.9515e+01 | 1.72e+00 | 2.97e+00 | 0.00e+00 |\n",
            "|   4   |  68   |  13   | +2.9515e+01 | 1.72e-01 | 2.97e+00 | 0.00e+00 |\n",
            "|   5   |  85   |  15   | +2.8458e+01 | 1.20e+00 | 2.67e+00 | 0.00e+00 |\n",
            "|   6   |  102  |  24   | +2.8458e+01 | 1.20e-01 | 2.67e+00 | 0.00e+00 |\n",
            "|   7   |  119  |  26   | +2.7795e+01 | 8.41e-01 | 2.27e+00 | 0.00e+00 |\n",
            "|   8   |  136  |  35   | +2.7795e+01 | 8.41e-02 | 2.27e+00 | 0.00e+00 |\n",
            "|   9   |  153  |  38   | +2.7531e+01 | 5.89e-01 | 2.12e+00 | 0.00e+00 |\n",
            "|  10   |  170  |  49   | +2.6950e+01 | 3.37e+00 | 2.77e+00 | 0.00e+00 |\n",
            "|  11   |  187  |  61   | +2.6732e+01 | 3.37e+00 | 3.20e+00 | 0.00e+00 |\n",
            "|  12   |  204  |  66   | +2.6572e+01 | 3.37e+00 | 3.17e+00 | 0.00e+00 |\n",
            "|  13   |  221  |  71   | +2.6526e+01 | 3.37e+00 | 3.31e+00 | 0.00e+00 |\n",
            "|  14   |  238  |  86   | +2.6065e+01 | 3.37e+00 | 3.72e+00 | 0.00e+00 |\n",
            "|  15   |  255  |  97   | +2.5805e+01 | 3.37e+00 | 2.62e+00 | 0.00e+00 |\n",
            "|  16   |  272  |  108  | +2.5692e+01 | 3.37e+00 | 3.21e+00 | 0.00e+00 |\n",
            "|  17   |  289  |  114  | +2.5385e+01 | 3.37e+00 | 2.92e+00 | 0.00e+00 |\n",
            "|  18   |  306  |  123  | +2.5219e+01 | 3.37e+00 | 3.78e+00 | 0.00e+00 |\n",
            "|  19   |  323  |  136  | +2.4910e+01 | 3.37e+00 | 3.25e+00 | 0.00e+00 |\n",
            "|  20   |  340  |  146  | +2.4558e+01 | 3.37e+00 | 2.94e+00 | 0.00e+00 |\n",
            "|  21   |  357  |  161  | +2.4558e+01 | 3.37e-01 | 2.94e+00 | 0.00e+00 |\n",
            "|  22   |  374  |  168  | +2.3647e+01 | 2.36e+00 | 4.23e+00 | 0.00e+00 |\n",
            "|  23   |  391  |  178  | +2.3647e+01 | 2.36e-01 | 4.23e+00 | 0.00e+00 |\n",
            "|  24   |  408  |  185  | +2.3268e+01 | 1.65e+00 | 3.75e+00 | 0.00e+00 |\n",
            "|  25   |  425  |  200  | +2.3268e+01 | 1.65e-01 | 3.75e+00 | 0.00e+00 |\n",
            "|  26   |  442  |  206  | +2.3063e+01 | 1.16e+00 | 3.63e+00 | 0.00e+00 |\n",
            "|  27   |  459  |  222  | +2.3063e+01 | 1.16e-01 | 3.63e+00 | 0.00e+00 |\n",
            "|  28   |  476  |  229  | +2.2889e+01 | 8.09e-01 | 3.80e+00 | 0.00e+00 |\n",
            "|  29   |  493  |  238  | +2.2889e+01 | 8.09e-02 | 3.80e+00 | 0.00e+00 |\n",
            "|  30   |  510  |  245  | +2.2784e+01 | 5.67e-01 | 3.70e+00 | 0.00e+00 |\n",
            "|  31   |  527  |  254  | +2.2784e+01 | 5.67e-02 | 3.70e+00 | 0.00e+00 |\n",
            "|  32   |  544  |  261  | +2.2716e+01 | 1.13e-01 | 3.83e+00 | 0.00e+00 |\n",
            "|  33   |  561  |  269  | +2.2716e+01 | 1.13e-02 | 3.83e+00 | 0.00e+00 |\n",
            "|  34   |  578  |  273  | +2.2685e+01 | 7.93e-02 | 3.79e+00 | 0.00e+00 |\n",
            "|  35   |  595  |  281  | +2.2685e+01 | 7.93e-03 | 3.79e+00 | 0.00e+00 |\n",
            "|  36   |  612  |  286  | +2.2663e+01 | 5.55e-02 | 3.77e+00 | 0.00e+00 |\n",
            "|  37   |  629  |  293  | +2.2663e+01 | 5.55e-03 | 3.77e+00 | 0.00e+00 |\n",
            "|  38   |  646  |  298  | +2.2647e+01 | 3.89e-02 | 3.74e+00 | 0.00e+00 |\n",
            "|  39   |  663  |  305  | +2.2647e+01 | 3.89e-03 | 3.74e+00 | 0.00e+00 |\n",
            "|  40   |  680  |  309  | +2.2634e+01 | 2.72e-02 | 3.72e+00 | 0.00e+00 |\n",
            "|  41   |  697  |  315  | +2.2634e+01 | 6.10e-03 | 3.72e+00 | 0.00e+00 |\n",
            "|  42   |  714  |  320  | +2.2617e+01 | 4.27e-02 | 3.71e+00 | 0.00e+00 |\n",
            "|  43   |  731  |  327  | +2.2617e+01 | 4.27e-03 | 3.71e+00 | 0.00e+00 |\n",
            "|  44   |  748  |  332  | +2.2603e+01 | 2.99e-02 | 3.68e+00 | 0.00e+00 |\n",
            "|  45   |  765  |  338  | +2.2547e+01 | 2.09e-01 | 3.68e+00 | 0.00e+00 |\n",
            "|  46   |  782  |  346  | +2.2547e+01 | 2.09e-02 | 3.68e+00 | 0.00e+00 |\n",
            "|  47   |  799  |  352  | +2.2507e+01 | 1.47e-01 | 3.65e+00 | 0.00e+00 |\n",
            "|  48   |  816  |  362  | +2.2294e+01 | 1.03e+00 | 3.60e+00 | 0.00e+00 |\n",
            "|  49   |  833  |  378  | +2.2294e+01 | 1.03e-01 | 3.60e+00 | 0.00e+00 |\n",
            "|  50   |  850  |  388  | +2.2172e+01 | 7.18e-01 | 3.80e+00 | 0.00e+00 |\n",
            "|  51   |  867  |  404  | +2.2172e+01 | 7.18e-02 | 3.80e+00 | 0.00e+00 |\n",
            "|  52   |  884  |  413  | +2.2172e+01 | 7.18e-03 | 3.80e+00 | 0.00e+00 |\n",
            "|  53   |  901  |  418  | +2.2158e+01 | 5.03e-02 | 3.81e+00 | 0.00e+00 |\n",
            "|  54   |  918  |  428  | +2.2098e+01 | 1.01e-01 | 3.90e+00 | 0.00e+00 |\n",
            "|  55   |  935  |  438  | +2.2098e+01 | 1.01e-02 | 3.90e+00 | 0.00e+00 |\n",
            "|  56   |  952  |  443  | +2.2081e+01 | 7.04e-02 | 3.94e+00 | 0.00e+00 |\n",
            "|  57   |  969  |  453  | +2.2081e+01 | 7.04e-03 | 3.94e+00 | 0.00e+00 |\n",
            "|  58   |  986  |  458  | +2.2067e+01 | 4.93e-02 | 3.98e+00 | 0.00e+00 |\n",
            "|  59   | 1003  |  469  | +2.2067e+01 | 2.46e-02 | 3.98e+00 | 0.00e+00 |\n",
            "|  60   | 1020  |  479  | +2.2016e+01 | 1.72e-01 | 4.23e+00 | 0.00e+00 |\n",
            "|  61   | 1037  |  490  | +2.2016e+01 | 1.72e-02 | 4.23e+00 | 0.00e+00 |\n",
            "|  62   | 1054  |  497  | +2.2016e+01 | 1.72e-03 | 4.23e+00 | 0.00e+00 |\n",
            "|  63   | 1071  |  500  | +2.2004e+01 | 1.21e-02 | 4.20e+00 | 0.00e+00 |\n",
            "|  64   | 1088  |  507  | +2.1953e+01 | 8.45e-02 | 3.84e+00 | 0.00e+00 |\n",
            "|  65   | 1105  |  517  | +2.1817e+01 | 1.69e-01 | 3.77e+00 | 0.00e+00 |\n",
            "|  66   | 1122  |  528  | +2.1817e+01 | 1.69e-02 | 3.77e+00 | 0.00e+00 |\n",
            "|  67   | 1139  |  535  | +2.1817e+01 | 1.69e-03 | 3.77e+00 | 0.00e+00 |\n",
            "|  68   | 1156  |  539  | +2.1807e+01 | 1.18e-02 | 3.72e+00 | 0.00e+00 |\n",
            "|  69   | 1173  |  544  | +2.1807e+01 | 1.18e-03 | 3.72e+00 | 0.00e+00 |\n",
            "|  70   | 1190  |  548  | +2.1801e+01 | 8.28e-03 | 3.73e+00 | 0.00e+00 |\n",
            "|  71   | 1207  |  553  | +2.1801e+01 | 8.28e-04 | 3.73e+00 | 0.00e+00 |\n",
            "|  72   | 1224  |  557  | +2.1796e+01 | 5.79e-03 | 3.73e+00 | 0.00e+00 |\n",
            "|  73   | 1241  |  563  | +2.1767e+01 | 4.06e-02 | 3.76e+00 | 0.00e+00 |\n",
            "|  74   | 1258  |  569  | +2.1767e+01 | 4.06e-03 | 3.76e+00 | 0.00e+00 |\n",
            "|  75   | 1275  |  575  | +2.1746e+01 | 2.84e-02 | 3.63e+00 | 0.00e+00 |\n",
            "|  76   | 1292  |  581  | +2.1746e+01 | 2.84e-03 | 3.63e+00 | 0.00e+00 |\n",
            "|  77   | 1309  |  586  | +2.1731e+01 | 1.99e-02 | 3.58e+00 | 0.00e+00 |\n",
            "|  78   | 1326  |  592  | +2.1731e+01 | 2.09e-03 | 3.58e+00 | 0.00e+00 |\n",
            "|  79   | 1343  |  597  | +2.1719e+01 | 1.46e-02 | 3.55e+00 | 0.00e+00 |\n",
            "|  80   | 1360  |  604  | +2.1654e+01 | 1.03e-01 | 3.20e+00 | 0.00e+00 |\n",
            "|  81   | 1377  |  612  | +2.1326e+01 | 7.18e-01 | 3.99e+00 | 0.00e+00 |\n",
            "|  82   | 1394  |  626  | +2.1326e+01 | 7.18e-02 | 3.99e+00 | 0.00e+00 |\n",
            "|  83   | 1411  |  635  | +2.1326e+01 | 7.18e-03 | 3.99e+00 | 0.00e+00 |\n",
            "|  84   | 1428  |  640  | +2.1294e+01 | 5.02e-02 | 3.15e+00 | 0.00e+00 |\n",
            "|  85   | 1445  |  650  | +2.1294e+01 | 5.02e-03 | 3.15e+00 | 0.00e+00 |\n",
            "|  86   | 1462  |  656  | +2.1280e+01 | 3.52e-02 | 3.17e+00 | 0.00e+00 |\n",
            "|  87   | 1479  |  664  | +2.1280e+01 | 3.52e-03 | 3.17e+00 | 0.00e+00 |\n",
            "|  88   | 1496  |  670  | +2.1269e+01 | 2.46e-02 | 3.21e+00 | 0.00e+00 |\n",
            "|  89   | 1513  |  678  | +2.1269e+01 | 2.46e-03 | 3.21e+00 | 0.00e+00 |\n",
            "|  90   | 1530  |  684  | +2.1262e+01 | 1.72e-02 | 3.24e+00 | 0.00e+00 |\n",
            "|  91   | 1547  |  691  | +2.1224e+01 | 1.21e-01 | 3.36e+00 | 0.00e+00 |\n",
            "|  92   | 1564  |  702  | +2.1224e+01 | 1.21e-02 | 3.36e+00 | 0.00e+00 |\n",
            "|  93   | 1581  |  710  | +2.1199e+01 | 8.44e-02 | 3.40e+00 | 0.00e+00 |\n",
            "|  94   | 1598  |  721  | +2.1199e+01 | 4.22e-02 | 3.40e+00 | 0.00e+00 |\n",
            "|  95   | 1615  |  730  | +2.1199e+01 | 4.22e-03 | 3.40e+00 | 0.00e+00 |\n",
            "|  96   | 1632  |  737  | +2.1188e+01 | 2.96e-02 | 3.41e+00 | 0.00e+00 |\n",
            "|  97   | 1649  |  747  | +2.1137e+01 | 2.07e-01 | 3.45e+00 | 0.00e+00 |\n",
            "|  98   | 1666  |  758  | +2.1137e+01 | 2.07e-02 | 3.45e+00 | 0.00e+00 |\n",
            "|  99   | 1683  |  767  | +2.1137e+01 | 2.86e-03 | 3.45e+00 | 0.00e+00 |\n",
            "|  100  | 1700  |  774  | +2.1128e+01 | 2.01e-02 | 3.45e+00 | 0.00e+00 |\n",
            "\n",
            "The maximum number of function evaluations is exceeded.\n",
            "Number of iterations: 100, function evaluations: 1700, CG iterations: 774, optimality: 3.45e+00, constraint violation: 0.00e+00, execution time: 4e+01 s.\n"
          ]
        }
      ]
    },
    {
      "cell_type": "code",
      "source": [
        "optimal_truss = generate_truss(results.x)\n",
        "optimal_truss.analyze()\n",
        "print(\n",
        "    \"mass = {:.2f} kg; \".format(optimal_truss.mass),\n",
        "    \"FOS = {:.2f}; \".format(optimal_truss.fos),\n",
        "    \"deflection = {:.2f} cm; \".format(optimal_truss.deflection*100)\n",
        ")\n",
        "trussme.visualize.plot_truss(optimal_truss, starting_shape=\"force\");"
      ],
      "metadata": {
        "colab": {
          "base_uri": "https://localhost:8080/",
          "height": 423
        },
        "id": "BQ5xCYibymLu",
        "outputId": "2c43ae69-7406-4582-d3d4-814ba6e2ee68"
      },
      "execution_count": 8,
      "outputs": [
        {
          "output_type": "stream",
          "name": "stdout",
          "text": [
            "mass = 21.13 kg;  FOS = 1.04;  deflection = 0.58 cm; \n"
          ]
        },
        {
          "output_type": "display_data",
          "data": {
            "text/plain": [
              "<Figure size 640x480 with 1 Axes>"
            ],
            "image/png": "[encoded data removed]"
          },
          "metadata": {}
        }
      ]
    },
    {
      "cell_type": "markdown",
      "source": [
        "# Mass Minimal by Joint Coordinates and Cross-Sections\n",
        "Next, let's generate a mass-minimal truss by moving the joints around and updating cross-section size"
      ],
      "metadata": {
        "id": "UOj8fnXsy3F9"
      }
    },
    {
      "cell_type": "code",
      "source": [
        "x0, objective, constraints, generate_truss, bounds = trussme.make_optimization_functions(truss_from_commands, goals, joint_coordinates=True, shape_parameters=True)"
      ],
      "metadata": {
        "id": "Lkd_mSJwy77y"
      },
      "execution_count": 9,
      "outputs": []
    },
    {
      "cell_type": "code",
      "source": [
        "results = scipy.optimize.minimize(\n",
        "    objective,\n",
        "    x0,\n",
        "    constraints=scipy.optimize.NonlinearConstraint(constraints, -numpy.inf, 0.0, keep_feasible=True),\n",
        "    bounds=scipy.optimize.Bounds(bounds[0], bounds[1], keep_feasible=True),\n",
        "    method='trust-constr',\n",
        "    options={\n",
        "        \"verbose\": 2,\n",
        "        \"maxiter\": 100,\n",
        "    }\n",
        ")"
      ],
      "metadata": {
        "outputId": "08d8f5b6-c565-43e6-e3f4-9badefc269ea",
        "colab": {
          "base_uri": "https://localhost:8080/"
        },
        "id": "Gs6RL4Xhy77z"
      },
      "execution_count": 12,
      "outputs": [
        {
          "output_type": "stream",
          "name": "stdout",
          "text": [
            "| niter |f evals|CG iter|  obj func   |tr radius |   opt    |  c viol  |\n",
            "|-------|-------|-------|-------------|----------|----------|----------|\n",
            "|   1   |  36   |   0   | +3.7583e+01 | 1.00e+00 | 3.49e+00 | 0.00e+00 |\n",
            "|   2   |  72   |   1   | +2.1379e+01 | 2.00e+00 | 2.06e+00 | 0.00e+00 |\n",
            "|   3   |  108  |  11   | +2.1379e+01 | 2.00e-01 | 2.06e+00 | 0.00e+00 |\n",
            "|   4   |  144  |  13   | +1.9409e+01 | 1.40e+00 | 1.88e+00 | 0.00e+00 |\n",
            "|   5   |  180  |  23   | +1.9409e+01 | 1.40e-01 | 1.88e+00 | 0.00e+00 |\n",
            "|   6   |  216  |  26   | +1.8174e+01 | 9.80e-01 | 1.77e+00 | 0.00e+00 |\n",
            "|   7   |  252  |  32   | +1.8174e+01 | 9.80e-02 | 1.77e+00 | 0.00e+00 |\n",
            "|   8   |  288  |  35   | +1.7375e+01 | 6.86e-01 | 1.69e+00 | 0.00e+00 |\n",
            "|   9   |  324  |  38   | +1.7375e+01 | 6.86e-02 | 1.69e+00 | 0.00e+00 |\n",
            "|  10   |  360  |  41   | +1.6846e+01 | 4.80e-01 | 1.91e+00 | 0.00e+00 |\n",
            "|  11   |  396  |  45   | +1.6846e+01 | 4.80e-02 | 1.91e+00 | 0.00e+00 |\n",
            "|  12   |  432  |  48   | +1.6490e+01 | 3.36e-01 | 1.87e+00 | 0.00e+00 |\n",
            "|  13   |  468  |  52   | +1.6490e+01 | 3.36e-02 | 1.87e+00 | 0.00e+00 |\n",
            "|  14   |  504  |  55   | +1.6244e+01 | 2.35e-01 | 1.83e+00 | 0.00e+00 |\n",
            "|  15   |  540  |  59   | +1.4645e+01 | 1.65e+00 | 1.62e+00 | 0.00e+00 |\n",
            "|  16   |  576  |  75   | +1.4645e+01 | 1.65e-01 | 1.62e+00 | 0.00e+00 |\n",
            "|  17   |  612  |  79   | +1.3642e+01 | 1.15e+00 | 1.48e+00 | 0.00e+00 |\n",
            "|  18   |  648  |  98   | +1.3642e+01 | 1.15e-01 | 1.48e+00 | 0.00e+00 |\n",
            "|  19   |  684  |  102  | +1.3642e+01 | 1.15e-02 | 1.48e+00 | 0.00e+00 |\n",
            "|  20   |  720  |  105  | +1.3575e+01 | 8.07e-02 | 1.48e+00 | 0.00e+00 |\n",
            "|  21   |  756  |  109  | +1.3134e+01 | 5.65e-01 | 1.42e+00 | 0.00e+00 |\n",
            "|  22   |  792  |  120  | +1.3134e+01 | 5.65e-02 | 1.42e+00 | 0.00e+00 |\n",
            "|  23   |  828  |  125  | +1.3134e+01 | 5.65e-03 | 1.42e+00 | 0.00e+00 |\n",
            "|  24   |  864  |  127  | +1.3101e+01 | 3.95e-02 | 1.42e+00 | 0.00e+00 |\n",
            "|  25   |  900  |  130  | +1.2888e+01 | 7.91e-02 | 1.39e+00 | 0.00e+00 |\n",
            "|  26   |  936  |  135  | +1.2888e+01 | 7.91e-03 | 1.39e+00 | 0.00e+00 |\n",
            "|  27   |  972  |  137  | +1.2843e+01 | 5.54e-02 | 1.38e+00 | 0.00e+00 |\n",
            "|  28   | 1008  |  142  | +1.2843e+01 | 5.54e-03 | 1.38e+00 | 0.00e+00 |\n",
            "|  29   | 1044  |  144  | +1.2811e+01 | 3.88e-02 | 1.38e+00 | 0.00e+00 |\n",
            "|  30   | 1080  |  148  | +1.2811e+01 | 3.88e-03 | 1.38e+00 | 0.00e+00 |\n",
            "|  31   | 1116  |  150  | +1.2788e+01 | 2.71e-02 | 1.38e+00 | 0.00e+00 |\n",
            "|  32   | 1152  |  153  | +1.2788e+01 | 2.71e-03 | 1.38e+00 | 0.00e+00 |\n",
            "|  33   | 1188  |  155  | +1.2772e+01 | 1.90e-02 | 1.37e+00 | 0.00e+00 |\n",
            "|  34   | 1224  |  158  | +1.2772e+01 | 1.90e-03 | 1.37e+00 | 0.00e+00 |\n",
            "|  35   | 1260  |  159  | +1.2760e+01 | 1.33e-02 | 1.39e+00 | 0.00e+00 |\n",
            "|  36   | 1296  |  161  | +1.2760e+01 | 1.33e-03 | 1.39e+00 | 0.00e+00 |\n",
            "|  37   | 1332  |  162  | +1.2760e+01 | 6.65e-04 | 1.39e+00 | 0.00e+00 |\n",
            "|  38   | 1368  |  163  | +1.2760e+01 | 3.32e-04 | 1.39e+00 | 0.00e+00 |\n",
            "|  39   | 1404  |  164  | +1.2758e+01 | 6.65e-04 | 1.37e+00 | 0.00e+00 |\n",
            "|  40   | 1440  |  165  | +1.2758e+01 | 3.32e-04 | 1.37e+00 | 0.00e+00 |\n",
            "|  41   | 1476  |  166  | +1.2758e+01 | 1.66e-04 | 1.37e+00 | 0.00e+00 |\n",
            "|  42   | 1512  |  167  | +1.2757e+01 | 3.32e-04 | 1.39e+00 | 0.00e+00 |\n",
            "|  43   | 1548  |  168  | +1.2757e+01 | 1.66e-04 | 1.39e+00 | 0.00e+00 |\n",
            "|  44   | 1584  |  169  | +1.2757e+01 | 8.31e-05 | 1.39e+00 | 0.00e+00 |\n",
            "|  45   | 1620  |  170  | +1.2757e+01 | 1.66e-04 | 1.37e+00 | 0.00e+00 |\n",
            "|  46   | 1656  |  171  | +1.2757e+01 | 8.31e-05 | 1.37e+00 | 0.00e+00 |\n",
            "|  47   | 1692  |  172  | +1.2757e+01 | 4.15e-05 | 1.37e+00 | 0.00e+00 |\n",
            "|  48   | 1728  |  173  | +1.2757e+01 | 8.31e-05 | 1.38e+00 | 0.00e+00 |\n",
            "|  49   | 1764  |  174  | +1.2757e+01 | 4.15e-05 | 1.38e+00 | 0.00e+00 |\n",
            "|  50   | 1800  |  175  | +1.2757e+01 | 2.08e-05 | 1.38e+00 | 0.00e+00 |\n",
            "|  51   | 1836  |  176  | +1.2757e+01 | 4.15e-05 | 1.38e+00 | 0.00e+00 |\n",
            "|  52   | 1872  |  177  | +1.2757e+01 | 2.08e-05 | 1.38e+00 | 0.00e+00 |\n",
            "|  53   | 1908  |  178  | +1.2757e+01 | 1.04e-05 | 1.38e+00 | 0.00e+00 |\n",
            "|  54   | 1944  |  179  | +1.2756e+01 | 1.04e-05 | 1.39e+00 | 0.00e+00 |\n",
            "|  55   | 1980  |  180  | +1.2756e+01 | 1.04e-05 | 1.37e+00 | 0.00e+00 |\n",
            "|  56   | 2016  |  181  | +1.2756e+01 | 1.04e-05 | 1.39e+00 | 0.00e+00 |\n",
            "|  57   | 2052  |  182  | +1.2756e+01 | 1.04e-05 | 1.37e+00 | 0.00e+00 |\n",
            "|  58   | 2088  |  183  | +1.2756e+01 | 1.04e-05 | 1.39e+00 | 0.00e+00 |\n",
            "|  59   | 2124  |  184  | +1.2756e+01 | 1.04e-05 | 1.37e+00 | 0.00e+00 |\n",
            "|  60   | 2160  |  185  | +1.2756e+01 | 1.04e-05 | 1.39e+00 | 0.00e+00 |\n",
            "|  61   | 2196  |  186  | +1.2756e+01 | 1.04e-05 | 1.37e+00 | 0.00e+00 |\n",
            "|  62   | 2232  |  187  | +1.2756e+01 | 1.04e-05 | 1.39e+00 | 0.00e+00 |\n",
            "|  63   | 2268  |  188  | +1.2756e+01 | 1.04e-05 | 1.37e+00 | 0.00e+00 |\n",
            "|  64   | 2304  |  189  | +1.2756e+01 | 1.04e-05 | 1.39e+00 | 0.00e+00 |\n",
            "|  65   | 2340  |  190  | +1.2756e+01 | 1.04e-05 | 1.37e+00 | 0.00e+00 |\n",
            "|  66   | 2376  |  191  | +1.2756e+01 | 1.04e-05 | 1.39e+00 | 0.00e+00 |\n",
            "|  67   | 2412  |  192  | +1.2756e+01 | 1.04e-05 | 1.37e+00 | 0.00e+00 |\n",
            "|  68   | 2448  |  193  | +1.2756e+01 | 1.04e-05 | 1.39e+00 | 0.00e+00 |\n",
            "|  69   | 2484  |  194  | +1.2756e+01 | 1.04e-05 | 1.37e+00 | 0.00e+00 |\n",
            "|  70   | 2520  |  195  | +1.2755e+01 | 1.04e-05 | 1.39e+00 | 0.00e+00 |\n",
            "|  71   | 2556  |  196  | +1.2755e+01 | 1.04e-05 | 1.37e+00 | 0.00e+00 |\n",
            "|  72   | 2592  |  197  | +1.2755e+01 | 1.04e-05 | 1.39e+00 | 0.00e+00 |\n",
            "|  73   | 2628  |  198  | +1.2755e+01 | 1.04e-05 | 1.37e+00 | 0.00e+00 |\n",
            "|  74   | 2664  |  199  | +1.2755e+01 | 1.04e-05 | 1.39e+00 | 0.00e+00 |\n",
            "|  75   | 2700  |  200  | +1.2755e+01 | 1.04e-05 | 1.37e+00 | 0.00e+00 |\n",
            "|  76   | 2736  |  201  | +1.2755e+01 | 1.04e-05 | 1.39e+00 | 0.00e+00 |\n",
            "|  77   | 2772  |  202  | +1.2755e+01 | 1.04e-05 | 1.37e+00 | 0.00e+00 |\n",
            "|  78   | 2808  |  203  | +1.2755e+01 | 1.04e-05 | 1.39e+00 | 0.00e+00 |\n",
            "|  79   | 2844  |  204  | +1.2755e+01 | 1.04e-05 | 1.37e+00 | 0.00e+00 |\n",
            "|  80   | 2880  |  205  | +1.2755e+01 | 1.04e-05 | 1.39e+00 | 0.00e+00 |\n",
            "|  81   | 2916  |  206  | +1.2755e+01 | 1.04e-05 | 1.37e+00 | 0.00e+00 |\n",
            "|  82   | 2952  |  207  | +1.2755e+01 | 1.04e-05 | 1.39e+00 | 0.00e+00 |\n",
            "|  83   | 2988  |  208  | +1.2755e+01 | 5.19e-06 | 1.39e+00 | 0.00e+00 |\n",
            "|  84   | 3024  |  209  | +1.2755e+01 | 1.04e-05 | 1.31e+00 | 0.00e+00 |\n",
            "|  85   | 3060  |  210  | +1.2755e+01 | 5.19e-06 | 1.31e+00 | 0.00e+00 |\n",
            "|  86   | 3096  |  211  | +1.2755e+01 | 2.60e-06 | 1.31e+00 | 0.00e+00 |\n",
            "|  87   | 3132  |  212  | +1.2755e+01 | 1.30e-06 | 1.31e+00 | 0.00e+00 |\n",
            "|  88   | 3168  |  213  | +1.2755e+01 | 6.49e-07 | 1.31e+00 | 0.00e+00 |\n",
            "|  89   | 3204  |  214  | +1.2755e+01 | 3.25e-07 | 1.31e+00 | 0.00e+00 |\n",
            "|  90   | 3240  |  215  | +1.2755e+01 | 1.62e-07 | 1.31e+00 | 0.00e+00 |\n",
            "|  91   | 3276  |  216  | +1.2755e+01 | 8.11e-08 | 1.31e+00 | 0.00e+00 |\n",
            "|  92   | 3312  |  217  | +1.2755e+01 | 4.06e-08 | 1.31e+00 | 0.00e+00 |\n",
            "|  93   | 3348  |  218  | +1.2755e+01 | 2.03e-08 | 1.31e+00 | 0.00e+00 |\n",
            "|  94   | 3384  |  219  | +1.2755e+01 | 1.01e-08 | 1.31e+00 | 0.00e+00 |\n",
            "|  95   | 3420  |  220  | +1.2755e+01 | 5.07e-09 | 1.31e+00 | 0.00e+00 |\n",
            "|  96   | 3456  |  220  | +1.2755e+01 | 1.00e+00 | 1.31e+00 | 0.00e+00 |\n",
            "|  97   | 3492  |  227  | +1.2755e+01 | 1.00e-01 | 1.31e+00 | 0.00e+00 |\n",
            "|  98   | 3528  |  230  | +1.2755e+01 | 1.00e-02 | 1.31e+00 | 0.00e+00 |\n",
            "|  99   | 3564  |  232  | +1.2695e+01 | 2.00e-02 | 1.39e+00 | 0.00e+00 |\n",
            "|  100  | 3600  |  234  | +1.2695e+01 | 2.00e-03 | 1.39e+00 | 0.00e+00 |\n",
            "\n",
            "The maximum number of function evaluations is exceeded.\n",
            "Number of iterations: 100, function evaluations: 3600, CG iterations: 234, optimality: 1.39e+00, constraint violation: 0.00e+00, execution time: 6.1e+01 s.\n"
          ]
        }
      ]
    },
    {
      "cell_type": "code",
      "source": [
        "optimal_truss = generate_truss(results.x)\n",
        "optimal_truss.analyze()\n",
        "print(\n",
        "    \"mass = {:.2f} kg; \".format(optimal_truss.mass),\n",
        "    \"FOS = {:.2f}; \".format(optimal_truss.fos),\n",
        "    \"deflection = {:.2f} cm; \".format(optimal_truss.deflection*100)\n",
        ")\n",
        "trussme.visualize.plot_truss(optimal_truss, starting_shape=\"force\");"
      ],
      "metadata": {
        "outputId": "defc4ef0-f197-4bfc-be4d-800fe271b048",
        "colab": {
          "base_uri": "https://localhost:8080/",
          "height": 423
        },
        "id": "nyiZH-rvy77z"
      },
      "execution_count": 13,
      "outputs": [
        {
          "output_type": "stream",
          "name": "stdout",
          "text": [
            "mass = 12.69 kg;  FOS = 1.00;  deflection = 0.54 cm; \n"
          ]
        },
        {
          "output_type": "display_data",
          "data": {
            "text/plain": [
              "<Figure size 640x480 with 1 Axes>"
            ],
            "image/png": "[encoded data removed]"
          },
          "metadata": {}
        }
      ]
    },
    {
      "cell_type": "code",
      "source": [],
      "metadata": {
        "id": "-qhlC5BXy-Bv"
      },
      "execution_count": 11,
      "outputs": []
    }
  ],
  "metadata": {
    "colab": {
      "name": "scratchpad",
      "provenance": [],
      "include_colab_link": true
    },
    "kernelspec": {
      "display_name": "Python 3",
      "name": "python3"
    }
  },
  "nbformat": 4,
  "nbformat_minor": 0
}